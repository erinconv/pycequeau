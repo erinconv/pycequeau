{
  "cells": [
    {
      "attachments": {},
      "cell_type": "markdown",
      "metadata": {},
      "source": [
        "# Get parameters structure #"
      ]
    },
    {
      "cell_type": "code",
      "execution_count": 1,
      "metadata": {},
      "outputs": [],
      "source": [
        "import os\n",
        "from pycequeau import physiographic\n",
        "from pycequeau.simulations import parameters\n",
        "from pycequeau.simulations._param_examples import send_values_test"
      ]
    },
    {
      "cell_type": "code",
      "execution_count": null,
      "metadata": {},
      "outputs": [
        {
          "name": "stderr",
          "output_type": "stream",
          "text": [
            "c:\\Users\\erinc\\anaconda3\\envs\\test_pycequeau\\lib\\site-packages\\osgeo\\gdal.py:330: FutureWarning: Neither gdal.UseExceptions() nor gdal.DontUseExceptions() has been explicitly called. In GDAL 4.0, exceptions will be enabled by default.\n",
            "  warnings.warn(\n",
            "c:\\Users\\erinc\\anaconda3\\envs\\test_pycequeau\\lib\\site-packages\\pycequeau\\simulations\\parameters.py:371: FutureWarning: Setting an item of incompatible dtype is deprecated and will raise an error in a future version of pandas. Value 'CP1 to CP0' has dtype incompatible with float64, please explicitly cast to a compatible dtype first.\n",
            "  df_line.loc[i, \"names\"] = f\"CP{i} to CP{cp_aval}\"\n"
          ]
        }
      ],
      "source": [
        "project_folder = r\"path/to/your/project/\"\n",
        "files_list = [\"BurnedDEM.tif\", # DEM tif file\n",
        "                \"FAC.tif\", #Flow accumulation tif file\n",
        "                \"LCF.tif\", # Land conver tif file\n",
        "                \"Watershed.tif\", # Watershed tif file\n",
        "                \"CAT.tif\" #Sub basins tif file\n",
        "                ]\n",
        "\n",
        "bassinVersant_file = os.path.join(project_folder,\n",
        "                                    \"results\",\n",
        "                                    \"bassinVersant.json\")\n",
        "# 4- Create basin Object:\n",
        "basin = physiographic.Basin(project_folder,\n",
        "                \"Meleze\",\n",
        "                files_list,\n",
        "                bassinVersant_file)\n",
        "basin.set_dimensions(7500, 7500)\n",
        "# 5- Create parameter object\n",
        "params = parameters.Parameters(basin)\n",
        "# Compute Jonei and Joeva\n",
        "params.day_max_insolation(\"meteo_cequeau.nc\")\n",
        "# This function will create the file streams_cequeau.shp in the geographic folder.\n",
        "params.create_cequeau_stream_network()\n",
        "# 6- retrieve the example parameter values to populate the structure\n",
        "flow_parameters, evapo_parameters, initial_conditions, snow_parameters, simulation_options, transferts, temperature_params = send_values_test()\n",
        "# 7- set the different parameter values\n",
        "params.set_sol(flow_parameters)\n",
        "params.set_solinitial(initial_conditions)\n",
        "params.set_transfert(transferts)\n",
        "params.set_option(simulation_options)\n",
        "params.set_fonte(snow_parameters, 1)\n",
        "params.set_evapo(evapo_parameters, 1)\n",
        "params.set_qualite(temperature_params)\n",
        "# 8- Create the parameter structure\n",
        "params.create_parameter_structure()"
      ]
    },
    {
      "cell_type": "code",
      "execution_count": 3,
      "metadata": {},
      "outputs": [
        {
          "data": {
            "text/plain": [
              "{'ipassim': 24,\n",
              " 'moduleFonte': 1,\n",
              " 'moduleEvapo': 1,\n",
              " 'moduleOmbrage': 0,\n",
              " 'moduleDLI': 1,\n",
              " 'calculQualite': 0,\n",
              " 'jonei': 108,\n",
              " 'joeva': 108}"
            ]
          },
          "execution_count": 3,
          "metadata": {},
          "output_type": "execute_result"
        }
      ],
      "source": [
        "params.parametres[\"option\"]"
      ]
    },
    {
      "cell_type": "code",
      "execution_count": 4,
      "metadata": {},
      "outputs": [
        {
          "data": {
            "text/plain": [
              "{'cin_s': 0.4,\n",
              " 'cvmar': 0.5036,\n",
              " 'cvnb_s': 0.0156,\n",
              " 'cvnh_s': 0.17382,\n",
              " 'cvsb': 0.102233,\n",
              " 'cvsi_s': 0.44716,\n",
              " 'xinfma': 9.5775,\n",
              " 'hinf_s': 11.718,\n",
              " 'hint_s': 107.4,\n",
              " 'hmar': 370.77,\n",
              " 'hnap_s': 94.943,\n",
              " 'hpot_s': 77.008,\n",
              " 'hsol_s': 181.18,\n",
              " 'hrimp_s': 5.0666,\n",
              " 'tri_s': 0,\n",
              " 'xla': 4851}"
            ]
          },
          "execution_count": 4,
          "metadata": {},
          "output_type": "execute_result"
        }
      ],
      "source": [
        "params.parametres[\"sol\"]"
      ]
    },
    {
      "cell_type": "code",
      "execution_count": 5,
      "metadata": {},
      "outputs": [
        {
          "data": {
            "text/plain": [
              "{'cequeau': {'strne_s': -0.8285,\n",
              "  'tfc_s': 8.6557,\n",
              "  'tfd_s': 6.3987,\n",
              "  'tsc_s': -1.8379,\n",
              "  'tsd_s': -0.22692,\n",
              "  'ttd': 2.8166,\n",
              "  'tts_s': 0.45228,\n",
              "  'jonei': 108,\n",
              "  'tmur': 0.0,\n",
              "  'tstock': 0.0},\n",
              " 'UEB': {'strne_s': -0.8285,\n",
              "  'K_s': 0.15,\n",
              "  'z0': 0.003,\n",
              "  'aep': 0.2,\n",
              "  'K_sat': 350,\n",
              "  'rho_s': 450,\n",
              "  'melt_frac': 0.99,\n",
              "  'melt_thr': 0,\n",
              "  'hours': 16,\n",
              "  'z': 2.0,\n",
              "  'avo': 0.8,\n",
              "  'airo': 0.6,\n",
              "  'Lc': 0.05,\n",
              "  'fstab': 1,\n",
              "  'D': 0.001,\n",
              "  'de': 0.4,\n",
              "  'snow_temp_method': 1,\n",
              "  'w': 0,\n",
              "  'ub': -2000,\n",
              "  'E': 0,\n",
              "  'tausn': 0,\n",
              "  'tsurf': 0,\n",
              "  'tave': 0,\n",
              "  'Mr': 0,\n",
              "  'albedo': 0.25},\n",
              " 'cemaNeige': {'strne': -0.8285,\n",
              "  'Kf': 15,\n",
              "  'Tf': 0,\n",
              "  'CTg': 0.85,\n",
              "  'theta': 0.8,\n",
              "  'Gseuil': 225.0,\n",
              "  'Vmin': 0.5,\n",
              "  'Zmed': 300,\n",
              "  'eTg': 0.1,\n",
              "  'G': 0}}"
            ]
          },
          "execution_count": 5,
          "metadata": {},
          "output_type": "execute_result"
        }
      ],
      "source": [
        "params.parametres[\"fonte\"]"
      ]
    }
  ],
  "metadata": {
    "kernelspec": {
      "display_name": "test_pycequeau",
      "language": "python",
      "name": "python3"
    },
    "language_info": {
      "codemirror_mode": {
        "name": "ipython",
        "version": 3
      },
      "file_extension": ".py",
      "mimetype": "text/x-python",
      "name": "python",
      "nbconvert_exporter": "python",
      "pygments_lexer": "ipython3",
      "version": "3.10.19"
    },
    "orig_nbformat": 4
  },
  "nbformat": 4,
  "nbformat_minor": 2
}
